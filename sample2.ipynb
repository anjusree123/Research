{
  "nbformat": 4,
  "nbformat_minor": 0,
  "metadata": {
    "colab": {
      "provenance": [],
      "authorship_tag": "ABX9TyOdXAaK6S6j7PXVgbXhgxOF",
      "include_colab_link": true
    },
    "kernelspec": {
      "name": "python3",
      "display_name": "Python 3"
    },
    "language_info": {
      "name": "python"
    }
  },
  "cells": [
    {
      "cell_type": "markdown",
      "metadata": {
        "id": "view-in-github",
        "colab_type": "text"
      },
      "source": [
        "<a href=\"https://colab.research.google.com/github/anjusree123/Research/blob/main/sample2.ipynb\" target=\"_parent\"><img src=\"https://colab.research.google.com/assets/colab-badge.svg\" alt=\"Open In Colab\"/></a>"
      ]
    },
    {
      "cell_type": "markdown",
      "source": [
        "Import methods for dealing with dataset"
      ],
      "metadata": {
        "id": "4-R3NV6GHFHN"
      }
    },
    {
      "cell_type": "code",
      "source": [
        "from torch.utils.data import Dataset, DataLoader\n",
        "import torch\n",
        "import torch.nn as nn"
      ],
      "metadata": {
        "id": "P5io6-L-HNMi"
      },
      "execution_count": 1,
      "outputs": []
    },
    {
      "cell_type": "code",
      "source": [
        "X=[[1,2],[3,4],[5,6],[7,8]]\n",
        "Y=[[3],[7],[11],[15]]"
      ],
      "metadata": {
        "id": "kD5c0vo-HW-y"
      },
      "execution_count": 2,
      "outputs": []
    },
    {
      "cell_type": "code",
      "source": [
        "x=torch.tensor(X).float()\n",
        "y=torch.tensor(Y).float()"
      ],
      "metadata": {
        "colab": {
          "base_uri": "https://localhost:8080/"
        },
        "id": "uDj3iN9HHpg8",
        "outputId": "f68e5442-353a-4b89-dd83-d976e41021b6"
      },
      "execution_count": 5,
      "outputs": [
        {
          "output_type": "stream",
          "name": "stderr",
          "text": [
            "<ipython-input-5-86d9ff9edd8e>:1: UserWarning: To copy construct from a tensor, it is recommended to use sourceTensor.clone().detach() or sourceTensor.clone().detach().requires_grad_(True), rather than torch.tensor(sourceTensor).\n",
            "  x=torch.tensor(X).float()\n"
          ]
        }
      ]
    },
    {
      "cell_type": "code",
      "source": [
        "device='cuda' if torch.cuda.is_available() else 'cpu'\n",
        "X=x.to(device)\n",
        "Y=y.to(device)"
      ],
      "metadata": {
        "id": "8iROZ6qlHyo9"
      },
      "execution_count": 6,
      "outputs": []
    },
    {
      "cell_type": "markdown",
      "source": [
        "class for dataset"
      ],
      "metadata": {
        "id": "OTOAgErBIQpc"
      }
    },
    {
      "cell_type": "code",
      "source": [
        "class MyDataset(Dataset):\n",
        "  def __init__(self,x,y):\n",
        "    self.x=torch.tensor(X).float()\n",
        "    self.y=torch.tensor(Y).float()\n",
        "  def __len__(self):# for the length of inpout data\n",
        "    return(len(self.x))\n",
        "  def __getitem__(self,ix):#to fetch a specific row\n",
        "    return self.x[ix],self.y[ix]\n",
        "ds=MyDataset(x,y)"
      ],
      "metadata": {
        "colab": {
          "base_uri": "https://localhost:8080/"
        },
        "id": "mRZsN6A8IQHV",
        "outputId": "29f0e8e9-1d43-407e-c1bf-a6f3cf67d09f"
      },
      "execution_count": 13,
      "outputs": [
        {
          "output_type": "stream",
          "name": "stderr",
          "text": [
            "<ipython-input-13-667db9ab172c>:3: UserWarning: To copy construct from a tensor, it is recommended to use sourceTensor.clone().detach() or sourceTensor.clone().detach().requires_grad_(True), rather than torch.tensor(sourceTensor).\n",
            "  self.x=torch.tensor(X).float()\n",
            "<ipython-input-13-667db9ab172c>:4: UserWarning: To copy construct from a tensor, it is recommended to use sourceTensor.clone().detach() or sourceTensor.clone().detach().requires_grad_(True), rather than torch.tensor(sourceTensor).\n",
            "  self.y=torch.tensor(Y).float()\n"
          ]
        }
      ]
    },
    {
      "cell_type": "markdown",
      "source": [
        "Dataloader for fetching the data based on batch size"
      ],
      "metadata": {
        "id": "ZgenZmdNJiX3"
      }
    },
    {
      "cell_type": "code",
      "source": [
        "dl=DataLoader(ds,batch_size=2,shuffle=True)"
      ],
      "metadata": {
        "id": "R8s9nUBSJcQo"
      },
      "execution_count": 14,
      "outputs": []
    },
    {
      "cell_type": "code",
      "source": [
        "class MyNeuralNet(nn.Module):\n",
        "  def __init__(self):\n",
        "    super().__init__()\n",
        "    self.input_layer=nn.Linear(2,8)\n",
        "    self.hidden=nn.ReLU()\n",
        "    self.output_layer=nn.Linear(8,1)\n",
        "  def forward(self,x):\n",
        "    x=self.input_layer(x)\n",
        "    x=self.hidden(x)\n",
        "    x=self.output_layer(x)\n",
        "    return x"
      ],
      "metadata": {
        "id": "2nIwlkprKDnz"
      },
      "execution_count": 15,
      "outputs": []
    },
    {
      "cell_type": "code",
      "source": [
        "mynet=MyNeuralNet().to(device)\n",
        "loss_funct=nn.MSELoss()\n",
        "from torch.optim import SGD\n",
        "opt=SGD(mynet.parameters(),lr=0.001)"
      ],
      "metadata": {
        "id": "-VRt7spEK4Ih"
      },
      "execution_count": 16,
      "outputs": []
    },
    {
      "cell_type": "code",
      "source": [
        "loss_history=[]\n",
        "for _ in range(50):\n",
        "  for data in dl:\n",
        "    x,y=data\n",
        "    opt.zero_grad()\n",
        "    loss_value=loss_funct(mynet(x),y)\n",
        "    loss_value.backward()\n",
        "    opt.step()\n",
        "    loss_history.append(loss_value)"
      ],
      "metadata": {
        "id": "815t6IvnLckw"
      },
      "execution_count": 17,
      "outputs": []
    },
    {
      "cell_type": "markdown",
      "source": [
        "Prediction"
      ],
      "metadata": {
        "id": "GtaerG_9OpMp"
      }
    },
    {
      "cell_type": "code",
      "source": [
        "val_x=[[10,11]]\n",
        "val_x=torch.tensor(val_x).float().to(device)#create the data and convertt to tensor adn register to the device"
      ],
      "metadata": {
        "id": "M3SqXFWgOqhw"
      },
      "execution_count": 18,
      "outputs": []
    },
    {
      "cell_type": "code",
      "source": [
        "mynet(val_x)#pass the object to the trained network"
      ],
      "metadata": {
        "colab": {
          "base_uri": "https://localhost:8080/"
        },
        "id": "TpQ58l4AO-IC",
        "outputId": "59a7edc9-bfad-4559-9aa6-8e8097e1f099"
      },
      "execution_count": 19,
      "outputs": [
        {
          "output_type": "execute_result",
          "data": {
            "text/plain": [
              "tensor([[21.0826]], grad_fn=<AddmmBackward0>)"
            ]
          },
          "metadata": {},
          "execution_count": 19
        }
      ]
    },
    {
      "cell_type": "markdown",
      "source": [
        "building custom loss function"
      ],
      "metadata": {
        "id": "sbeG-EN_P0Ml"
      }
    },
    {
      "cell_type": "code",
      "source": [
        "def my_mean_squared_error(_y,y):\n",
        "  loss=(_y-y)**2\n",
        "  loss=loss.mean()\n",
        "  return loss"
      ],
      "metadata": {
        "id": "deOq9yWbPzlT"
      },
      "execution_count": 20,
      "outputs": []
    },
    {
      "cell_type": "code",
      "source": [
        "my_mean_squared_error(mynet(x),y)"
      ],
      "metadata": {
        "colab": {
          "base_uri": "https://localhost:8080/"
        },
        "id": "-VAv6jbRQUJl",
        "outputId": "7b67bf61-759f-4cbb-e1b3-71d3412948d3"
      },
      "execution_count": 21,
      "outputs": [
        {
          "output_type": "execute_result",
          "data": {
            "text/plain": [
              "tensor(0.0005, grad_fn=<MeanBackward0>)"
            ]
          },
          "metadata": {},
          "execution_count": 21
        }
      ]
    },
    {
      "cell_type": "markdown",
      "source": [
        "fetching intermediate values"
      ],
      "metadata": {
        "id": "6VgCikeWQhXv"
      }
    },
    {
      "cell_type": "code",
      "source": [
        "mynet(X)[1]"
      ],
      "metadata": {
        "colab": {
          "base_uri": "https://localhost:8080/"
        },
        "id": "TKNxiaURQjzP",
        "outputId": "fdb103e5-09e7-4692-8342-27b4d38c4e8d"
      },
      "execution_count": 22,
      "outputs": [
        {
          "output_type": "execute_result",
          "data": {
            "text/plain": [
              "tensor([6.9600], grad_fn=<SelectBackward0>)"
            ]
          },
          "metadata": {},
          "execution_count": 22
        }
      ]
    }
  ]
}