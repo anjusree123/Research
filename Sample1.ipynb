{
  "nbformat": 4,
  "nbformat_minor": 0,
  "metadata": {
    "colab": {
      "provenance": [],
      "authorship_tag": "ABX9TyPRMDoRVvO5jxCDpr5Eh/s5",
      "include_colab_link": true
    },
    "kernelspec": {
      "name": "python3",
      "display_name": "Python 3"
    },
    "language_info": {
      "name": "python"
    }
  },
  "cells": [
    {
      "cell_type": "markdown",
      "metadata": {
        "id": "view-in-github",
        "colab_type": "text"
      },
      "source": [
        "<a href=\"https://colab.research.google.com/github/anjusree123/Research/blob/main/Sample1.ipynb\" target=\"_parent\"><img src=\"https://colab.research.google.com/assets/colab-badge.svg\" alt=\"Open In Colab\"/></a>"
      ]
    },
    {
      "cell_type": "code",
      "execution_count": 1,
      "metadata": {
        "id": "g3K7cvsxRfNB"
      },
      "outputs": [],
      "source": [
        "import torch"
      ]
    },
    {
      "cell_type": "markdown",
      "source": [
        "Defining x and y"
      ],
      "metadata": {
        "id": "PqJ7HzpT2mrY"
      }
    },
    {
      "cell_type": "code",
      "source": [
        "x=[[1,2],[3,4],[5,6],[7,8]]\n",
        "y=[[3],[7],[11],[15]]"
      ],
      "metadata": {
        "id": "2b6sNknc2VpB"
      },
      "execution_count": 2,
      "outputs": []
    },
    {
      "cell_type": "markdown",
      "source": [
        "Convert the input list to tensor object"
      ],
      "metadata": {
        "id": "54pPcKg92pux"
      }
    },
    {
      "cell_type": "code",
      "source": [
        "X=torch.tensor(x).float()\n",
        "Y=torch.tensor(y).float()"
      ],
      "metadata": {
        "id": "ivibIbRp2VuW"
      },
      "execution_count": 3,
      "outputs": []
    },
    {
      "cell_type": "markdown",
      "source": [
        "Register X and Y tod evice cuda if you have a GPU otherwise to a CPU"
      ],
      "metadata": {
        "id": "uJIn_6Ts3Han"
      }
    },
    {
      "cell_type": "code",
      "source": [
        "device='cuda' if torch.cuda.is_available() else 'cpu'\n",
        "X=X.to(device)\n",
        "Y=Y.to(device)"
      ],
      "metadata": {
        "id": "Ota-KDSS3Cqd"
      },
      "execution_count": 4,
      "outputs": []
    },
    {
      "cell_type": "markdown",
      "source": [
        "Define the neural network"
      ],
      "metadata": {
        "id": "jQ_VPsdG3hUx"
      }
    },
    {
      "cell_type": "code",
      "source": [
        "import torch.nn as nn"
      ],
      "metadata": {
        "id": "LvIK-OJy3nPY"
      },
      "execution_count": 5,
      "outputs": []
    },
    {
      "cell_type": "markdown",
      "source": [
        "Define neural network class and the layers\n",
        "Use forward function for Forward propogation"
      ],
      "metadata": {
        "id": "Adb9HWJY4D0S"
      }
    },
    {
      "cell_type": "code",
      "source": [
        "class MyNeuralNetwork(nn.Module):\n",
        "  #inititialize all components of the neural network\n",
        "  def __init__(self):\n",
        "    super().__init__()\n",
        "    self.input_layer=nn.Linear(2,8)\n",
        "    self.hidden_layer=nn.ReLU()\n",
        "    self.output_layer=nn.Linear(8,1)\n",
        "    #connect tye components by defining teh forward propogation network\n",
        "  def forward(self,x):\n",
        "    x=self.input_layer(x)\n",
        "    x=self.hidden_layer(x)\n",
        "    x=self.output_layer(x)\n",
        "    return x"
      ],
      "metadata": {
        "id": "5h-fOivF3umy"
      },
      "execution_count": 10,
      "outputs": []
    },
    {
      "cell_type": "markdown",
      "source": [
        "Assign the network to **device**"
      ],
      "metadata": {
        "id": "WVkSAbX65lZw"
      }
    },
    {
      "cell_type": "code",
      "source": [
        "mynet=MyNeuralNetwork().to(device)"
      ],
      "metadata": {
        "id": "rOFN9u4k5kqf"
      },
      "execution_count": 11,
      "outputs": []
    },
    {
      "cell_type": "code",
      "source": [
        "mynet.input_layer.weight"
      ],
      "metadata": {
        "colab": {
          "base_uri": "https://localhost:8080/"
        },
        "id": "fjkG-fnH6PRT",
        "outputId": "3a635e65-b3d2-4248-cff8-c2ff09cf2234"
      },
      "execution_count": 12,
      "outputs": [
        {
          "output_type": "execute_result",
          "data": {
            "text/plain": [
              "Parameter containing:\n",
              "tensor([[-0.4863,  0.0110],\n",
              "        [-0.0518, -0.2135],\n",
              "        [ 0.3088, -0.6843],\n",
              "        [ 0.1726, -0.2607],\n",
              "        [-0.3061, -0.1949],\n",
              "        [ 0.1492,  0.5045],\n",
              "        [ 0.3522, -0.1356],\n",
              "        [ 0.0373, -0.1709]], requires_grad=True)"
            ]
          },
          "metadata": {},
          "execution_count": 12
        }
      ]
    },
    {
      "cell_type": "code",
      "source": [
        "mynet.input_layer.bias"
      ],
      "metadata": {
        "colab": {
          "base_uri": "https://localhost:8080/"
        },
        "id": "JH8doYiH6a7X",
        "outputId": "569c6dd7-ca16-4f1f-af75-d50b48dfbc4d"
      },
      "execution_count": 13,
      "outputs": [
        {
          "output_type": "execute_result",
          "data": {
            "text/plain": [
              "Parameter containing:\n",
              "tensor([-0.1547,  0.5262, -0.3158, -0.0323,  0.2192,  0.1226, -0.1684,  0.5086],\n",
              "       requires_grad=True)"
            ]
          },
          "metadata": {},
          "execution_count": 13
        }
      ]
    },
    {
      "cell_type": "markdown",
      "source": [
        "The values in the output will vary from the preceding, as the neural network is initialized with random values every time. If you wanted them to remain the same in multiple iterations of executing the same code, you would need to specify the seed using the manual_seed method in Torch as torch.manual_seed(0) just before creating the instance of the class object"
      ],
      "metadata": {
        "id": "0KA53kpL6jLN"
      }
    },
    {
      "cell_type": "markdown",
      "source": [
        "Obtainibg parameters"
      ],
      "metadata": {
        "id": "zol2h49S6ywe"
      }
    },
    {
      "cell_type": "code",
      "source": [
        "mynet.parameters()"
      ],
      "metadata": {
        "colab": {
          "base_uri": "https://localhost:8080/"
        },
        "id": "I33m4rmn6t8z",
        "outputId": "00235488-7ac7-4f0c-ad03-967df6e408b2"
      },
      "execution_count": 14,
      "outputs": [
        {
          "output_type": "execute_result",
          "data": {
            "text/plain": [
              "<generator object Module.parameters at 0x79d64ef4e0a0>"
            ]
          },
          "metadata": {},
          "execution_count": 14
        }
      ]
    },
    {
      "cell_type": "code",
      "source": [
        "for par in mynet.parameters():\n",
        "  print (par)"
      ],
      "metadata": {
        "colab": {
          "base_uri": "https://localhost:8080/"
        },
        "id": "NgwAnTct68l3",
        "outputId": "3050f4dc-a9af-4561-d65f-05e775f9a510"
      },
      "execution_count": 17,
      "outputs": [
        {
          "output_type": "stream",
          "name": "stdout",
          "text": [
            "Parameter containing:\n",
            "tensor([[-0.4863,  0.0110],\n",
            "        [-0.0518, -0.2135],\n",
            "        [ 0.3088, -0.6843],\n",
            "        [ 0.1726, -0.2607],\n",
            "        [-0.3061, -0.1949],\n",
            "        [ 0.1492,  0.5045],\n",
            "        [ 0.3522, -0.1356],\n",
            "        [ 0.0373, -0.1709]], requires_grad=True)\n",
            "Parameter containing:\n",
            "tensor([-0.1547,  0.5262, -0.3158, -0.0323,  0.2192,  0.1226, -0.1684,  0.5086],\n",
            "       requires_grad=True)\n",
            "Parameter containing:\n",
            "tensor([[ 0.2751, -0.0347,  0.1926, -0.2309,  0.1518,  0.2294,  0.2260, -0.1901]],\n",
            "       requires_grad=True)\n",
            "Parameter containing:\n",
            "tensor([-0.0161], requires_grad=True)\n"
          ]
        }
      ]
    },
    {
      "cell_type": "code",
      "source": [
        "print(nn.Linear(2,7))"
      ],
      "metadata": {
        "colab": {
          "base_uri": "https://localhost:8080/"
        },
        "id": "7Hey2oBi4l63",
        "outputId": "e2b061c6-eb10-4182-c6bd-e3e379c77eef"
      },
      "execution_count": 6,
      "outputs": [
        {
          "output_type": "stream",
          "name": "stdout",
          "text": [
            "Linear(in_features=2, out_features=7, bias=True)\n"
          ]
        }
      ]
    },
    {
      "cell_type": "markdown",
      "source": [
        "using loss function"
      ],
      "metadata": {
        "id": "1bZXH38G7pGY"
      }
    },
    {
      "cell_type": "code",
      "source": [
        "loss_funct=nn.MSELoss()"
      ],
      "metadata": {
        "id": "Xe9n3ecn7obq"
      },
      "execution_count": 18,
      "outputs": []
    },
    {
      "cell_type": "markdown",
      "source": [
        "computing loss"
      ],
      "metadata": {
        "id": "bU8bSup8AeQq"
      }
    },
    {
      "cell_type": "code",
      "source": [
        "Yout=mynet(X)\n",
        "loss_value=loss_funct(Yout,Y)#while computing loss always pass prediction first\n",
        "print(loss_value)"
      ],
      "metadata": {
        "colab": {
          "base_uri": "https://localhost:8080/"
        },
        "id": "495Zo6F9AA9u",
        "outputId": "3b42278c-11a9-419a-fb36-2b7142b786c6"
      },
      "execution_count": 19,
      "outputs": [
        {
          "output_type": "stream",
          "name": "stdout",
          "text": [
            "tensor(82.5915, grad_fn=<MseLossBackward0>)\n"
          ]
        }
      ]
    },
    {
      "cell_type": "markdown",
      "source": [
        "Optimizer for reducing the loss value"
      ],
      "metadata": {
        "id": "hRNR-UOTAro4"
      }
    },
    {
      "cell_type": "code",
      "source": [
        "from torch.optim import SGD\n",
        "opt=SGD(mynet.parameters(),lr=0.001)#Import the SGD method from the torch.optim module and then pass the neural network object (mynet) and learning rate (lr) as parameters to the SGD method:"
      ],
      "metadata": {
        "id": "D5pX3fAmA2BX"
      },
      "execution_count": 20,
      "outputs": []
    },
    {
      "cell_type": "markdown",
      "source": [
        "performing bacward propogation"
      ],
      "metadata": {
        "id": "DlGPerr1BfBB"
      }
    },
    {
      "cell_type": "code",
      "source": [
        "opt.zero_grad()#flush the previouse epochs gradient\n",
        "loss_value=loss_funct(mynet(X),Y)\n",
        "loss_value.backward()#perform bacward propogation\n",
        "opt.step()#update weights according to teh gradients computed"
      ],
      "metadata": {
        "id": "oyIqUo0vBiWp"
      },
      "execution_count": 21,
      "outputs": []
    },
    {
      "cell_type": "markdown",
      "source": [
        "Running for 50 epochs"
      ],
      "metadata": {
        "id": "l2LJb-n2DNXf"
      }
    },
    {
      "cell_type": "code",
      "source": [
        "loss_history=[]\n",
        "opt.zero_grad()\n",
        "\n",
        "for _ in range(50):\n",
        "\n",
        "  loss_value=loss_funct(mynet(X),Y)\n",
        "  loss_value.backward()\n",
        "  opt.step()\n",
        "  loss_history.append(loss_value)"
      ],
      "metadata": {
        "id": "Zf4r0LPWDMd0"
      },
      "execution_count": 31,
      "outputs": []
    },
    {
      "cell_type": "markdown",
      "source": [
        "Plotting the loss over the increasing epoch"
      ],
      "metadata": {
        "id": "QlbWRu6QDuSr"
      }
    },
    {
      "cell_type": "code",
      "source": [
        "import matplotlib.pyplot as plt\n",
        "%matplotlib inline\n",
        "los = [fl.item() for fl in loss_history]\n",
        "plt.plot(los)\n",
        "plt.title('Loss variation over increasing epochs')\n",
        "plt.xlabel('epochs')\n",
        "plt.ylabel('loss_value')"
      ],
      "metadata": {
        "colab": {
          "base_uri": "https://localhost:8080/",
          "height": 489
        },
        "id": "X6D5I1SjDtp2",
        "outputId": "604a5265-07fe-46ea-b9ae-fa23ce3eae34"
      },
      "execution_count": 33,
      "outputs": [
        {
          "output_type": "execute_result",
          "data": {
            "text/plain": [
              "Text(0, 0.5, 'loss_value')"
            ]
          },
          "metadata": {},
          "execution_count": 33
        },
        {
          "output_type": "display_data",
          "data": {
            "text/plain": [
              "<Figure size 640x480 with 1 Axes>"
            ],
            "image/png": "[encoded data removed]"
          },
          "metadata": {}
        }
      ]
    }
  ]
}